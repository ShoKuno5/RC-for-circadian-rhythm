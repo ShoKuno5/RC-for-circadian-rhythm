{
 "cells": [
  {
   "cell_type": "markdown",
   "metadata": {},
   "source": [
    "# レスラー方程式(ランダムなシフト付きsin外力のある状態)\n",
    "\n",
    "レスラー方程式の外力のある場合に関して，$\\sin$ 波に位相のランダムなシフトがある場合を考える．"
   ]
  },
  {
   "cell_type": "code",
   "execution_count": 20,
   "metadata": {},
   "outputs": [
    {
     "name": "stdout",
     "output_type": "stream",
     "text": [
      "CPU times: user 16 µs, sys: 0 ns, total: 16 µs\n",
      "Wall time: 31 µs\n"
     ]
    }
   ],
   "source": [
    "#必要なパッケージのインポート\n",
    "\n",
    "import numpy as np\n",
    "\n",
    "import matplotlib\n",
    "import matplotlib.pyplot as plt\n",
    "\n",
    "import reservoirpy as rpy\n",
    "\n",
    "from scipy.integrate import solve_ivp\n",
    "import pandas as pd\n",
    "from reservoirpy.observables import nrmse, rsquare\n",
    "\n",
    "import matplotlib.pyplot as plt\n",
    "from mpl_toolkits.mplot3d import Axes3D\n",
    "\n",
    "import os\n",
    "\n",
    "rpy.verbosity(0)\n",
    "\n",
    "from reservoirpy.nodes import Reservoir, Ridge\n",
    "from reservoirpy.datasets import mackey_glass\n",
    "\n",
    "# just a little tweak to center the plots, nothing to worry about\n",
    "from IPython.core.display import HTML\n",
    "HTML(\"\"\"\n",
    "<style>\n",
    ".img-center {\n",
    "    display: block;\n",
    "    margin-left: auto;\n",
    "    margin-right: auto;\n",
    "    }\n",
    ".output_png {\n",
    "    display: table-cell;\n",
    "    text-align: center;\n",
    "    vertical-align: middle;\n",
    "    }\n",
    "</style>\n",
    "\"\"\")\n",
    "\n",
    "rpy.set_seed(42)\n",
    "\n",
    "%time\n"
   ]
  },
  {
   "cell_type": "code",
   "execution_count": 21,
   "metadata": {},
   "outputs": [],
   "source": [
    "import numpy as np\n",
    "import matplotlib.pyplot as plt\n",
    "from scipy.integrate import simps\n",
    "import pandas as pd\n",
    "\n",
    "dir_name = f\"data\"\n",
    "os.makedirs(dir_name, exist_ok=True)\n"
   ]
  },
  {
   "cell_type": "code",
   "execution_count": 22,
   "metadata": {},
   "outputs": [],
   "source": [
    "import os\n",
    "import pandas as pd\n",
    "import matplotlib.pyplot as plt\n",
    "\n",
    "# プロットを保存するディレクトリ\n",
    "dir_name_plot = 'plots'\n",
    "if not os.path.exists(dir_name_plot):\n",
    "    os.makedirs(dir_name_plot)\n",
    "\n",
    "# shift_hourの範囲でループ\n",
    "for shift_hour in range(-12, 13):\n",
    "    filename_with_force = f\"{dir_name}/VDP_{shift_hour}.csv\"\n",
    "\n",
    "    # CSVファイルを読み込む\n",
    "    # 実際のCSVファイルが存在する場合にのみ動作します\n",
    "    data_loaded_with_force = pd.read_csv(filename_with_force)\n",
    "\n",
    "    # CSVから値を抽出してNumpy配列に格納\n",
    "    sample = 0\n",
    "    plot_length = 5000\n",
    "\n",
    "    # 時間ごとのx, y, P_shiftedそれぞれのグラフ\n",
    "    fig, axs = plt.subplots(3, 1, figsize=(15, 8), sharex=True)\n",
    "    axs[0].plot(data_loaded_with_force['time'][sample: sample+plot_length], data_loaded_with_force['x'][sample: sample+plot_length], label='x')\n",
    "    axs[0].set_ylabel('x')\n",
    "    axs[0].legend(loc='upper right')\n",
    "\n",
    "    axs[1].plot(data_loaded_with_force['time'][sample: sample+plot_length], data_loaded_with_force['y'][sample: sample+plot_length], label='y', color='orange')\n",
    "    axs[1].set_ylabel('y')\n",
    "    axs[1].legend(loc='upper right')\n",
    "\n",
    "    axs[2].plot(data_loaded_with_force['time'][sample: sample+plot_length], data_loaded_with_force['P_shifted'][sample: sample+plot_length], label='P_shifted', color='green')\n",
    "    axs[2].set_ylabel('P_shifted')\n",
    "    axs[2].legend(loc='upper right')\n",
    "\n",
    "    plt.suptitle('Time Evolution of the VDP System')\n",
    "\n",
    "    # グラフをファイルに保存\n",
    "    plot_filename = f\"{dir_name_plot}/plot_{shift_hour}.png\"\n",
    "    plt.savefig(plot_filename)\n",
    "    plt.close()\n"
   ]
  }
 ],
 "metadata": {
  "kernelspec": {
   "display_name": "python38gen2",
   "language": "python",
   "name": "python3"
  },
  "language_info": {
   "codemirror_mode": {
    "name": "ipython",
    "version": 3
   },
   "file_extension": ".py",
   "mimetype": "text/x-python",
   "name": "python",
   "nbconvert_exporter": "python",
   "pygments_lexer": "ipython3",
   "version": "3.8.8"
  }
 },
 "nbformat": 4,
 "nbformat_minor": 2
}
