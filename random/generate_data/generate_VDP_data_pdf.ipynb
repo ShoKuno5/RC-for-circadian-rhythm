{
 "cells": [
  {
   "cell_type": "markdown",
   "metadata": {},
   "source": [
    "# レスラー方程式(ランダムなシフト付きsin外力のある状態)\n",
    "\n",
    "レスラー方程式の外力のある場合に関して，$\\sin$ 波に位相のランダムなシフトがある場合を考える．"
   ]
  },
  {
   "cell_type": "code",
   "execution_count": 1,
   "metadata": {},
   "outputs": [],
   "source": [
    "#必要なパッケージのインポート\n",
    "\n",
    "import numpy as np\n",
    "\n",
    "import matplotlib\n",
    "import matplotlib.pyplot as plt\n",
    "\n",
    "import reservoirpy as rpy\n",
    "\n",
    "from scipy.integrate import solve_ivp\n",
    "import pandas as pd\n",
    "from reservoirpy.observables import nrmse, rsquare\n",
    "\n",
    "import matplotlib.pyplot as plt\n",
    "from mpl_toolkits.mplot3d import Axes3D\n",
    "\n",
    "import os\n",
    "\n",
    "rpy.verbosity(0)\n",
    "\n",
    "from reservoirpy.nodes import Reservoir, Ridge\n",
    "from reservoirpy.datasets import mackey_glass\n",
    "\n",
    "# just a little tweak to center the plots, nothing to worry about\n",
    "from IPython.core.display import HTML\n",
    "HTML(\"\"\"\n",
    "<style>\n",
    ".img-center {\n",
    "    display: block;\n",
    "    margin-left: auto;\n",
    "    margin-right: auto;\n",
    "    }\n",
    ".output_png {\n",
    "    display: table-cell;\n",
    "    text-align: center;\n",
    "    vertical-align: middle;\n",
    "    }\n",
    "</style>\n",
    "\"\"\")\n",
    "\n",
    "rpy.set_seed(42)\n",
    "\n",
    "%time\n"
   ]
  },
  {
   "cell_type": "code",
   "execution_count": null,
   "metadata": {},
   "outputs": [
    {
     "name": "stdout",
     "output_type": "stream",
     "text": [
      "Plot saved as 'data/VanDerPolTimeEvolution.pdf'.\n"
     ]
    }
   ],
   "source": [
    "import pandas as pd\n",
    "import matplotlib.pyplot as plt\n",
    "import os\n",
    "\n",
    "dir_name = \"data\"\n",
    "os.makedirs(dir_name, exist_ok=True)\n",
    "\n",
    "filename_with_force = f\"{dir_name}/VDP_random.csv\"\n",
    "\n",
    "# CSVファイルにデータを保存\n",
    "# data_frame_with_shifted_force.to_csv(filename_with_force, index=False) # ここで data_frame_with_shifted_force は既に定義されていると仮定\n",
    "\n",
    "# CSVファイルを読み込む\n",
    "data_loaded_with_force = pd.read_csv(filename_with_force)\n",
    "\n",
    "# CSVから値を抽出してNumpy配列に格納\n",
    "X = data_loaded_with_force[['x', 'y', 'P_shifted']].values\n",
    "\n",
    "sample = 0\n",
    "plot_length = 5000\n",
    "\n",
    "# 時間ごとのx, y, zそれぞれのグラフ\n",
    "fig, axs = plt.subplots(3, 1, figsize=(15, 8), sharex=True)\n",
    "axs[0].plot(data_loaded_with_force['time'][sample: sample+plot_length], data_loaded_with_force['x'][sample: sample+plot_length], label='x')\n",
    "axs[0].set_ylabel('x')\n",
    "axs[0].legend(loc='upper right')\n",
    "\n",
    "axs[1].plot(data_loaded_with_force['time'][sample: sample+plot_length], data_loaded_with_force['y'][sample: sample+plot_length], label='y', color='orange')\n",
    "axs[1].set_ylabel('y')\n",
    "axs[1].legend(loc='upper right')\n",
    "\n",
    "# Plot P_shifted vs. time\n",
    "axs[2].plot(data_loaded_with_force['time'][sample: sample+plot_length], data_loaded_with_force['P_shifted'][sample: sample+plot_length], label='P_shifted', color='green')\n",
    "axs[2].set_ylabel('P_shifted')\n",
    "axs[2].legend(loc='upper right')\n",
    "\n",
    "plt.suptitle('Time Evolution of the Van der Pol System')\n",
    "\n",
    "# PDFファイルに保存\n",
    "pdf_file_name = f\"{dir_name}/VanDerPolTimeEvolution.pdf\"\n",
    "plt.savefig(pdf_file_name, format='pdf')\n",
    "print(f\"Plot saved as '{pdf_file_name}'.\")\n",
    "\n",
    "plt.close(fig)  # プロットを閉じる\n"
   ]
  }
 ],
 "metadata": {
  "kernelspec": {
   "display_name": "python38gen2",
   "language": "python",
   "name": "python3"
  },
  "language_info": {
   "codemirror_mode": {
    "name": "ipython",
    "version": 3
   },
   "file_extension": ".py",
   "mimetype": "text/x-python",
   "name": "python",
   "nbconvert_exporter": "python",
   "pygments_lexer": "ipython3",
   "version": "3.8.8"
  }
 },
 "nbformat": 4,
 "nbformat_minor": 2
}
