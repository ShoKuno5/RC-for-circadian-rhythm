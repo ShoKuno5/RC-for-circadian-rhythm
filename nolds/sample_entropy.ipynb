{
 "cells": [
  {
   "cell_type": "code",
   "execution_count": 5,
   "metadata": {},
   "outputs": [
    {
     "name": "stdout",
     "output_type": "stream",
     "text": [
      "CPU times: user 7 µs, sys: 5 µs, total: 12 µs\n",
      "Wall time: 27.7 µs\n"
     ]
    }
   ],
   "source": [
    "#必要なパッケージのインポート\n",
    "\n",
    "import numpy as np\n",
    "\n",
    "import matplotlib\n",
    "import matplotlib.pyplot as plt\n",
    "\n",
    "import reservoirpy as rpy\n",
    "\n",
    "from scipy.integrate import solve_ivp\n",
    "import pandas as pd\n",
    "from reservoirpy.observables import nrmse, rsquare\n",
    "\n",
    "import matplotlib.pyplot as plt\n",
    "from mpl_toolkits.mplot3d import Axes3D\n",
    "\n",
    "import os\n",
    "\n",
    "rpy.verbosity(0)\n",
    "\n",
    "from reservoirpy.nodes import Reservoir, Ridge\n",
    "from reservoirpy.datasets import mackey_glass\n",
    "\n",
    "# just a little tweak to center the plots, nothing to worry about\n",
    "from IPython.core.display import HTML\n",
    "HTML(\"\"\"\n",
    "<style>\n",
    ".img-center {\n",
    "    display: block;\n",
    "    margin-left: auto;\n",
    "    margin-right: auto;\n",
    "    }\n",
    ".output_png {\n",
    "    display: table-cell;\n",
    "    text-align: center;\n",
    "    vertical-align: middle;\n",
    "    }\n",
    "</style>\n",
    "\"\"\")\n",
    "\n",
    "rpy.set_seed(42)\n",
    "\n",
    "%time\n"
   ]
  },
  {
   "cell_type": "code",
   "execution_count": 6,
   "metadata": {},
   "outputs": [
    {
     "name": "stdout",
     "output_type": "stream",
     "text": [
      "(1000, 3)\n"
     ]
    }
   ],
   "source": [
    "import numpy as np\n",
    "import pandas as pd\n",
    "\n",
    "opt_shift_hour = 0\n",
    "#opt_shift_hour = f'random'\n",
    "\n",
    "# CSVファイルにデータを保存\n",
    "#filename_with_force = f'/home/kuno/my_project/VDP/VDP_analysis/generate_data/data/VDP_{opt_shift_hour}.csv'\n",
    "filename_with_force = f'/home/kuno/my_project/VDP/VDP_analysis/0random/generate_data/data/VDP_random.csv'\n",
    "\n",
    "# CSVファイルを読み込む\n",
    "data_loaded_with_force = pd.read_csv(filename_with_force)\n",
    "\n",
    "# CSVから値を抽出してNumpy配列に格納\n",
    "X = data_loaded_with_force[['x', 'y', 'P_shifted']].values\n",
    "\n",
    "time_series = X[:1000]\n",
    "print(time_series.shape)"
   ]
  },
  {
   "cell_type": "markdown",
   "metadata": {},
   "source": [
    "# 各列ごと"
   ]
  },
  {
   "cell_type": "code",
   "execution_count": 7,
   "metadata": {},
   "outputs": [
    {
     "name": "stdout",
     "output_type": "stream",
     "text": [
      "2   [0.4058634668753333, 0.42003566199564013, 0.07055978781844366]\n",
      "3   [0.26932510020022915, 0.2734711443884856, 0.07557395943029373]\n",
      "4   [0.2000153052026118, 0.20779174092694314, 0.08129502300398471]\n",
      "5   [0.15432990735708665, 0.15818790652106124, 0.0880623635495288]\n",
      "6   [0.12209103572766121, 0.12467568189183288, 0.09231455517881186]\n",
      "7   [0.09917983840091042, 0.10415256796326652, 0.06857548241006414]\n",
      "8   [0.08369455666466596, 0.09131617172028184, 0.054262350671381056]\n",
      "9   [0.07318479371690675, 0.07839063394572268, 0.04556672151112053]\n"
     ]
    }
   ],
   "source": [
    "import numpy as np\n",
    "import nolds\n",
    "\n",
    "time_series = X[:1000]\n",
    "\n",
    "# 多変量サンプルエントロピーの計算\n",
    "# m: 埋め込み次元\n",
    "# r: 距離の閾値（データの標準偏差の一定割合）\n",
    "for m in range (2, 10):\n",
    "    r = 0.2 * np.std(time_series)  # 距離の閾値\n",
    "\n",
    "    # 各時系列データに対するサンプルエントロピーを計算\n",
    "    entropies = [nolds.sampen(time_series[:, i], emb_dim=m, tolerance=r) for i in range(time_series.shape[1])]\n",
    "\n",
    "    # 計算されたエントロピーの表示\n",
    "    print(f\"{m}   {entropies}\")\n"
   ]
  },
  {
   "cell_type": "markdown",
   "metadata": {},
   "source": [
    "# 全体に対して"
   ]
  },
  {
   "cell_type": "code",
   "execution_count": 8,
   "metadata": {},
   "outputs": [
    {
     "name": "stdout",
     "output_type": "stream",
     "text": [
      "2   0.13989503411549165\n",
      "3   0.10736067955356805\n",
      "4   0.09865640101025264\n",
      "5   0.09695216393608444\n",
      "6   0.09618890872055379\n",
      "7   0.07257938199916143\n",
      "8   0.05815897041270449\n",
      "9   0.04901474646795805\n"
     ]
    }
   ],
   "source": [
    "import numpy as np\n",
    "import nolds\n",
    "\n",
    "\n",
    "# 多変量サンプルエントロピーの計算\n",
    "# m: 埋め込み次元\n",
    "# r: 距離の閾値（データの標準偏差の一定割合）\n",
    "for m in range (2, 10):\n",
    "    r = 0.2 * np.std(time_series)  # 距離の閾値\n",
    "\n",
    "    # 各時系列データに対するサンプルエントロピーを計算\n",
    "    entropies = nolds.sampen(time_series, emb_dim=m, tolerance=r)\n",
    "\n",
    "    # 計算されたエントロピーの表示\n",
    "    print(f\"{m}   {entropies}\")\n"
   ]
  }
 ],
 "metadata": {
  "kernelspec": {
   "display_name": "python38gen2",
   "language": "python",
   "name": "python3"
  },
  "language_info": {
   "codemirror_mode": {
    "name": "ipython",
    "version": 3
   },
   "file_extension": ".py",
   "mimetype": "text/x-python",
   "name": "python",
   "nbconvert_exporter": "python",
   "pygments_lexer": "ipython3",
   "version": "3.8.8"
  }
 },
 "nbformat": 4,
 "nbformat_minor": 2
}
