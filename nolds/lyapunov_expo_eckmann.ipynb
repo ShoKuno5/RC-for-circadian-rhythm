{
 "cells": [
  {
   "cell_type": "code",
   "execution_count": 13,
   "metadata": {},
   "outputs": [
    {
     "name": "stdout",
     "output_type": "stream",
     "text": [
      "CPU times: user 3 µs, sys: 2 µs, total: 5 µs\n",
      "Wall time: 10.3 µs\n"
     ]
    }
   ],
   "source": [
    "#必要なパッケージのインポート\n",
    "\n",
    "import numpy as np\n",
    "\n",
    "import matplotlib\n",
    "import matplotlib.pyplot as plt\n",
    "\n",
    "import reservoirpy as rpy\n",
    "\n",
    "from scipy.integrate import solve_ivp\n",
    "import pandas as pd\n",
    "from reservoirpy.observables import nrmse, rsquare\n",
    "\n",
    "import matplotlib.pyplot as plt\n",
    "from mpl_toolkits.mplot3d import Axes3D\n",
    "\n",
    "import os\n",
    "\n",
    "rpy.verbosity(0)\n",
    "\n",
    "from reservoirpy.nodes import Reservoir, Ridge\n",
    "from reservoirpy.datasets import mackey_glass\n",
    "\n",
    "# just a little tweak to center the plots, nothing to worry about\n",
    "from IPython.core.display import HTML\n",
    "HTML(\"\"\"\n",
    "<style>\n",
    ".img-center {\n",
    "    display: block;\n",
    "    margin-left: auto;\n",
    "    margin-right: auto;\n",
    "    }\n",
    ".output_png {\n",
    "    display: table-cell;\n",
    "    text-align: center;\n",
    "    vertical-align: middle;\n",
    "    }\n",
    "</style>\n",
    "\"\"\")\n",
    "\n",
    "rpy.set_seed(42)\n",
    "\n",
    "%time\n"
   ]
  },
  {
   "cell_type": "code",
   "execution_count": 14,
   "metadata": {},
   "outputs": [],
   "source": [
    "import numpy as np\n",
    "import pandas as pd\n",
    "\n",
    "opt_shift_hour = 0\n",
    "#opt_shift_hour = f'random'\n",
    "\n",
    "# CSVファイルにデータを保存\n",
    "#filename_with_force = f'/home/kuno/my_project/VDP/VDP_analysis/generate_data/data/VDP_{opt_shift_hour}.csv'\n",
    "filename_with_force = f'/home/kuno/my_project/VDP/VDP_analysis/0random/generate_data/data/VDP_random.csv'\n",
    "\n",
    "# CSVファイルを読み込む\n",
    "data_loaded_with_force = pd.read_csv(filename_with_force)\n",
    "\n",
    "# CSVから値を抽出してNumpy配列に格納\n",
    "X = data_loaded_with_force[['x', 'y', 'P_shifted']].values"
   ]
  },
  {
   "cell_type": "markdown",
   "metadata": {},
   "source": [
    "# 各列ごと"
   ]
  },
  {
   "cell_type": "code",
   "execution_count": 15,
   "metadata": {},
   "outputs": [
    {
     "name": "stdout",
     "output_type": "stream",
     "text": [
      "第0列: [ 0.05304604  0.01086329 -0.04798416 -0.22730887]\n",
      "第1列: [ 0.05928379  0.00524596 -0.07742143 -0.22556396]\n",
      "第2列: [ 0.94603497  0.00530789 -0.01029326 -0.3563454 ]\n"
     ]
    }
   ],
   "source": [
    "import numpy as np\n",
    "import nolds\n",
    "\n",
    "for i in range (0, 3):\n",
    "    time_series = X[:1000, i]\n",
    "\n",
    "\n",
    "    # リャプノフ指数の計算\n",
    "    emb_dim = 10  # 埋め込み次元\n",
    "    matrix_dim = 4  # 行列の次元\n",
    "\n",
    "    # リャプノフ指数の計算\n",
    "    lyap_exponents = nolds.lyap_e(time_series, emb_dim=emb_dim, matrix_dim=matrix_dim)\n",
    "\n",
    "    # 結果の表示\n",
    "    print(f\"第{i}列: {lyap_exponents}\")\n",
    "\n"
   ]
  }
 ],
 "metadata": {
  "kernelspec": {
   "display_name": "python38gen2",
   "language": "python",
   "name": "python3"
  },
  "language_info": {
   "codemirror_mode": {
    "name": "ipython",
    "version": 3
   },
   "file_extension": ".py",
   "mimetype": "text/x-python",
   "name": "python",
   "nbconvert_exporter": "python",
   "pygments_lexer": "ipython3",
   "version": "3.8.8"
  }
 },
 "nbformat": 4,
 "nbformat_minor": 2
}
