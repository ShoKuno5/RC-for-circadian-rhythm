{
 "cells": [
  {
   "cell_type": "markdown",
   "metadata": {},
   "source": [
    "# レスラー方程式(ランダムなシフト付きsin外力のある状態)\n",
    "\n",
    "レスラー方程式の外力のある場合に関して，$\\sin$ 波に位相のランダムなシフトがある場合を考える．"
   ]
  },
  {
   "cell_type": "code",
   "execution_count": 1,
   "metadata": {},
   "outputs": [
    {
     "name": "stdout",
     "output_type": "stream",
     "text": [
      "CPU times: user 5 µs, sys: 6 µs, total: 11 µs\n",
      "Wall time: 21.7 µs\n"
     ]
    }
   ],
   "source": [
    "#必要なパッケージのインポート\n",
    "\n",
    "import numpy as np\n",
    "\n",
    "import matplotlib\n",
    "import matplotlib.pyplot as plt\n",
    "\n",
    "import reservoirpy as rpy\n",
    "\n",
    "from scipy.integrate import solve_ivp\n",
    "import pandas as pd\n",
    "from reservoirpy.observables import nrmse, rsquare\n",
    "\n",
    "import matplotlib.pyplot as plt\n",
    "from mpl_toolkits.mplot3d import Axes3D\n",
    "\n",
    "import os\n",
    "\n",
    "rpy.verbosity(0)\n",
    "\n",
    "from reservoirpy.nodes import Reservoir, Ridge\n",
    "from reservoirpy.datasets import mackey_glass\n",
    "\n",
    "# just a little tweak to center the plots, nothing to worry about\n",
    "from IPython.core.display import HTML\n",
    "HTML(\"\"\"\n",
    "<style>\n",
    ".img-center {\n",
    "    display: block;\n",
    "    margin-left: auto;\n",
    "    margin-right: auto;\n",
    "    }\n",
    ".output_png {\n",
    "    display: table-cell;\n",
    "    text-align: center;\n",
    "    vertical-align: middle;\n",
    "    }\n",
    "</style>\n",
    "\"\"\")\n",
    "\n",
    "rpy.set_seed(42)\n",
    "\n",
    "%time\n"
   ]
  },
  {
   "cell_type": "code",
   "execution_count": 2,
   "metadata": {},
   "outputs": [],
   "source": [
    "import numpy as np\n",
    "from scipy.integrate import solve_ivp\n",
    "import matplotlib.pyplot as plt\n",
    "\n",
    "\n",
    "mu = 0.1\n",
    "A = 0.5\n",
    "initial_state = [1.0, 0.0]  # Initial states for [X, Y, x_lorenz, y_lorenz, z_lorenz]\n",
    "\n",
    "# 時間の設定\n",
    "t_span = [0, 10000]  # 開始時刻と終了時刻\n",
    "t_eval = np.linspace(t_span[0], t_span[1], 100000)  # 評価する時間点"
   ]
  },
  {
   "cell_type": "code",
   "execution_count": 3,
   "metadata": {},
   "outputs": [],
   "source": [
    "def find_P_shift(t_eval, t):\n",
    "    idx = np.searchsorted(t_eval, t)\n",
    "    if idx > 0 and (idx == len(t_eval) or np.abs(t - t_eval[idx-1]) < np.abs(t - t_eval[idx])):\n",
    "        idx = idx - 1\n",
    "    return idx\n"
   ]
  },
  {
   "cell_type": "code",
   "execution_count": 4,
   "metadata": {},
   "outputs": [],
   "source": [
    "import numpy as np\n",
    "import matplotlib.pyplot as plt\n",
    "from scipy.integrate import simps\n",
    "import pandas as pd\n",
    "\n",
    "dir_name = f\"data\"\n",
    "os.makedirs(dir_name, exist_ok=True)\n"
   ]
  },
  {
   "cell_type": "code",
   "execution_count": 5,
   "metadata": {},
   "outputs": [],
   "source": [
    "for shift_hour in range(-12, 13):\n",
    "    # P_shifted の計算\n",
    "    period = np.floor(1.05*t_eval / (4*2*np.pi))\n",
    "    phase_shift = 1.05 * t_eval + period * (shift_hour / 24) * 2 * np.pi\n",
    "    P_shifted = A * np.sin(phase_shift)\n",
    "\n",
    "    # t_eval と P_shifted を組み合わせて二次元配列を作成\n",
    "    P_shifted_combined = np.vstack((t_eval, P_shifted))\n",
    "\n",
    "    # 微分方程式の定義（P_shifted を直接使用）\n",
    "    def coupled_system(t, state, mu, A):\n",
    "        X, Y = state\n",
    "        # t_eval と一致する t のインデックスを見つける\n",
    "\n",
    "        dXdt = Y\n",
    "        dYdt = mu * (1 - X**2) * Y - X + P_shifted[find_P_shift(t_eval, t)]\n",
    "        \n",
    "        return [dXdt, dYdt]\n",
    "\n",
    "    # 微分方程式を解く\n",
    "    sol = solve_ivp(coupled_system, t_span, initial_state, args=(mu, A), t_eval=t_eval)\n",
    "\n",
    "    # DataFrameの作成\n",
    "    data_frame_with_shifted_force = pd.DataFrame({\n",
    "        'time': sol.t,\n",
    "        'x': sol.y[0],\n",
    "        'y': sol.y[1],\n",
    "        'P_shifted': [P_shifted[find_P_shift(t_eval, t)] for t in sol.t]  # 位相シフトされた外力P(t)の列を追加\n",
    "    })\n",
    "\n",
    "    filename_with_force = f\"{dir_name}/VDP_{shift_hour}.csv\"\n",
    "\n",
    "    # CSVファイルにデータを保存\n",
    "    data_frame_with_shifted_force.to_csv(filename_with_force, index=False)"
   ]
  }
 ],
 "metadata": {
  "kernelspec": {
   "display_name": "python38gen2",
   "language": "python",
   "name": "python3"
  },
  "language_info": {
   "codemirror_mode": {
    "name": "ipython",
    "version": 3
   },
   "file_extension": ".py",
   "mimetype": "text/x-python",
   "name": "python",
   "nbconvert_exporter": "python",
   "pygments_lexer": "ipython3",
   "version": "3.8.8"
  }
 },
 "nbformat": 4,
 "nbformat_minor": 2
}
