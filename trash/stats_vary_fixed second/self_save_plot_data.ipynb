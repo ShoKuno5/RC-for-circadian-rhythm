{
 "cells": [
  {
   "cell_type": "markdown",
   "metadata": {},
   "source": [
    "# VDP方程式(ランダムなシフト付きsin外力のある状態)\n",
    "\n",
    "VDP方程式の外力のある場合に関して，$\\sin$ 波に位相のランダムなシフトがある場合を考える．"
   ]
  },
  {
   "cell_type": "code",
   "execution_count": 1,
   "metadata": {},
   "outputs": [
    {
     "name": "stdout",
     "output_type": "stream",
     "text": [
      "CPU times: user 6 µs, sys: 7 µs, total: 13 µs\n",
      "Wall time: 26.2 µs\n"
     ]
    }
   ],
   "source": [
    "#必要なパッケージのインポート\n",
    "\n",
    "import numpy as np\n",
    "\n",
    "import matplotlib\n",
    "import matplotlib.pyplot as plt\n",
    "\n",
    "import reservoirpy as rpy\n",
    "\n",
    "from scipy.integrate import solve_ivp\n",
    "import pandas as pd\n",
    "from reservoirpy.observables import nrmse, rsquare\n",
    "\n",
    "import matplotlib.pyplot as plt\n",
    "from mpl_toolkits.mplot3d import Axes3D\n",
    "\n",
    "import os\n",
    "\n",
    "rpy.verbosity(0)\n",
    "\n",
    "from reservoirpy.nodes import Reservoir, Ridge\n",
    "from reservoirpy.datasets import mackey_glass\n",
    "\n",
    "# just a little tweak to center the plots, nothing to worry about\n",
    "from IPython.core.display import HTML\n",
    "HTML(\"\"\"\n",
    "<style>\n",
    ".img-center {\n",
    "    display: block;\n",
    "    margin-left: auto;\n",
    "    margin-right: auto;\n",
    "    }\n",
    ".output_png {\n",
    "    display: table-cell;\n",
    "    text-align: center;\n",
    "    vertical-align: middle;\n",
    "    }\n",
    "</style>\n",
    "\"\"\")\n",
    "\n",
    "rpy.set_seed(42)\n",
    "\n",
    "import pandas as pd\n",
    "\n",
    "%time\n"
   ]
  },
  {
   "cell_type": "markdown",
   "metadata": {},
   "source": [
    "生成データの描画．　"
   ]
  },
  {
   "cell_type": "code",
   "execution_count": 2,
   "metadata": {},
   "outputs": [],
   "source": [
    "def plot_generation(X_gen, X_t, nb_generations, warming_out=None, warming_inputs=None, seed_timesteps=0):\n",
    "    plt.figure(figsize=(15, 5))\n",
    "    if warming_out is not None:\n",
    "        plt.plot(np.vstack([warming_out, X_gen]), label=\"Generated timeseries\")\n",
    "    else:\n",
    "        plt.plot(X_gen, label=\"Generated timeseries\")\n",
    "\n",
    "    plt.plot(np.arange(nb_generations) + seed_timesteps, X_t, linestyle=\"--\", label=\"Real timeseries\")\n",
    "\n",
    "    # `warming_inputs`のサイズを検証して調整します。\n",
    "    if warming_inputs is not None and len(warming_inputs) > seed_timesteps:\n",
    "        # `seed_timesteps`に合わせてサイズを調整\n",
    "        warming_inputs = warming_inputs[:seed_timesteps]\n",
    "        plt.plot(warming_inputs, linestyle=\"--\", label=\"Warmup\")\n",
    "\n",
    "    plt.plot(np.arange(nb_generations) + seed_timesteps, np.abs(X_t - X_gen), label=\"Absolute deviation\")\n",
    "\n",
    "    if seed_timesteps > 0:\n",
    "        plt.fill_between([0, seed_timesteps], *plt.ylim(), facecolor='lightgray', alpha=0.5, label=\"Warmup period\")\n",
    "\n",
    "    plt.legend()\n",
    "    plt.show()\n"
   ]
  },
  {
   "cell_type": "code",
   "execution_count": 3,
   "metadata": {},
   "outputs": [],
   "source": [
    "# 時系列データの比較を行う関数\n",
    "def compare_timeseries_multidimensional(X_gen, X_t, nb_generations):\n",
    "    num_dimensions = X_gen.shape[1]  # 次元数を取得\n",
    "    for dim in range(num_dimensions):\n",
    "        plt.figure(figsize=(15, 5))\n",
    "        plt.plot(X_gen[:, dim][:nb_generations], label=\"Generated timeseries\", linewidth=2)\n",
    "        plt.plot(X_t[:, dim][:nb_generations], label=\"Real timeseries\", linewidth=2)\n",
    "        plt.plot(np.abs(X_t[:, dim][:nb_generations] - X_gen[:, dim][:nb_generations]), label=\"Absolute deviation\", linestyle='--')\n",
    "        plt.plot(nrmse(X_gen[:, dim][:nb_generations], X_t[:, dim][:nb_generations]), label=f\"nrmse:{nrmse(X_gen[:, dim][:nb_generations], X_t[:, dim][:nb_generations])}\", linewidth=2)\n",
    "        plt.plot(rsquare(X_gen[:, dim][:nb_generations], X_t[:, dim][:nb_generations]), label=f\"rsquare:{rsquare(X_gen[:, dim][:nb_generations], X_t[:, dim][:nb_generations])}\", linewidth=2)\n",
    "\n",
    "        plt.title(f'Comparison of Generated and Real Timeseries (Dimension {dim+1})')\n",
    "        plt.xlabel('Time Steps')\n",
    "        plt.ylabel('Values')\n",
    "        plt.legend()        \n",
    "        plt.show()\n"
   ]
  },
  {
   "cell_type": "code",
   "execution_count": 4,
   "metadata": {},
   "outputs": [],
   "source": [
    "train_len = 40000\n",
    "start_time = 0\n",
    "test_length = 20000\n",
    "nb_generations = 3000\n",
    "\n",
    "seed_timesteps = test_length \n"
   ]
  },
  {
   "cell_type": "code",
   "execution_count": 5,
   "metadata": {},
   "outputs": [],
   "source": [
    "opt_shift_hour = -7\n",
    "\n",
    "dir_name_plot = f\"self_plot/plot_{opt_shift_hour}\"\n",
    "os.makedirs(dir_name_plot, exist_ok=True)"
   ]
  },
  {
   "cell_type": "code",
   "execution_count": 6,
   "metadata": {},
   "outputs": [],
   "source": [
    "import matplotlib.pyplot as plt\n",
    "import pandas as pd\n",
    "import numpy as np\n",
    "from matplotlib.backends.backend_pdf import PdfPages\n",
    "\n",
    "plt.ioff()\n",
    "\n",
    "\n",
    "filename_with_force_result = f\"/home/kuno/my_project/VDP/VDP_analysis/stats_vary_fixed/self_gen_{opt_shift_hour}/VDP_gen.csv\"\n",
    "data_loaded_with_force_result = pd.read_csv(filename_with_force_result, header=None)\n",
    "X_result = data_loaded_with_force_result.iloc[:, [0, 1, 2]].values\n",
    "\n",
    "filename_with_force_val = f\"/home/kuno/my_project/VDP/VDP_analysis/stats_vary_fixed/self_test_{opt_shift_hour}/VDP_test.csv\"\n",
    "data_loaded_with_force_val = pd.read_csv(filename_with_force_val, header=None)\n",
    "X_val = data_loaded_with_force_val.iloc[:, [0, 1, 2]].values\n",
    "\n",
    "X_t = X_val[:nb_generations]\n",
    "X_gen = X_result[:nb_generations]\n",
    "\n",
    "num_dimensions = X_gen.shape[1]\n",
    "\n",
    "# サブプロットの作成\n",
    "fig, axs = plt.subplots(num_dimensions, 1, figsize=(15, 4 * num_dimensions))\n",
    "\n",
    "for dim in range(num_dimensions):\n",
    "    axs[dim].plot(X_gen[:, dim][:nb_generations], label=\"Generated timeseries\", linewidth=2)\n",
    "    axs[dim].plot(X_t[:, dim][:nb_generations], label=\"Real timeseries\", linewidth=2)\n",
    "    axs[dim].plot(np.abs(X_t[:, dim][:nb_generations] - X_gen[:, dim][:nb_generations]), label=\"Absolute deviation\", linestyle='--')\n",
    "    axs[dim].plot(nrmse(X_gen[:, dim][:nb_generations], X_t[:, dim][:nb_generations]), label=f\"nrmse:{nrmse(X_gen[:, dim][:nb_generations], X_t[:, dim][:nb_generations])}\", linewidth=2)\n",
    "    axs[dim].plot(rsquare(X_gen[:, dim][:nb_generations], X_t[:, dim][:nb_generations]), label=f\"rsquare:{rsquare(X_gen[:, dim][:nb_generations], X_t[:, dim][:nb_generations])}\", linewidth=2)\n",
    "    axs[dim].set_title(f'Dimension {dim+1} Estimate, Phase shift: {opt_shift_hour}', fontsize = 'xx-large')\n",
    "    axs[dim].set_xlabel('Time Steps', fontsize = 'xx-large')\n",
    "    axs[dim].set_ylabel('Values', fontsize = 'xx-large')\n",
    "    axs[dim].legend(fontsize='x-large')  # 凡例のサイズを変更\n",
    "\n",
    "plt.tight_layout()\n",
    "\n",
    "# 各shift_hourに対して個別のPDFファイルを保存\n",
    "pdf_filename = f\"{dir_name_plot}/self_plot_{opt_shift_hour}.pdf\"\n",
    "with PdfPages(pdf_filename) as pdf:\n",
    "    pdf.savefig(fig)\n",
    "plt.close()\n"
   ]
  }
 ],
 "metadata": {
  "kernelspec": {
   "display_name": "python38gen2",
   "language": "python",
   "name": "python3"
  },
  "language_info": {
   "codemirror_mode": {
    "name": "ipython",
    "version": 3
   },
   "file_extension": ".py",
   "mimetype": "text/x-python",
   "name": "python",
   "nbconvert_exporter": "python",
   "pygments_lexer": "ipython3",
   "version": "3.8.8"
  }
 },
 "nbformat": 4,
 "nbformat_minor": 2
}
